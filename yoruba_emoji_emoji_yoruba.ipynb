{
 "cells": [
  {
   "cell_type": "markdown",
   "id": "f4e3124e-2948-4e57-8e89-c5ab85791d81",
   "metadata": {},
   "source": [
    "### BUILDING A YORUBA-EMOJI AND EMOJI-YORUBA RULE BASED AND MACHINE LEARNING MODEL WITH STREAMLIT APP"
   ]
  },
  {
   "cell_type": "code",
   "execution_count": 2,
   "id": "7b856d67-cd94-41b5-8f56-888f1aaa0a05",
   "metadata": {},
   "outputs": [
    {
     "name": "stdout",
     "output_type": "stream",
     "text": [
      "Yoruba to Emoji Translation:\n",
      "Inú mi dùn gan  → 🙂❤️\n",
      "Ọmọ náà ń sunkún  → 👶😭\n",
      "Mo fẹ́ omi  → 💧🥤\n",
      "Wọ́n ń ṣe ayẹyẹ  → 🎉🥳\n",
      "Mo n lọ sí ilé  → 🏠🚶\n",
      "Mi ò mọ́  → 🤔 (No emoji found)\n",
      "\n",
      "Emoji → Yoruba Translation:\n",
      "🙂❤️ → inú mi dùn gan\n",
      "😡🔥 → inú mi bínú\n",
      "🌞🕛 → ọ̀sán ń bọ̀\n",
      "🍽️🍲 → mo fẹ́ jẹun\n",
      "😓⚠️ → ó wà nínú ìṣòro\n",
      "😂🤣 → ó ń rẹ́rìn-ín\n",
      "👶😭 → ọmọ náà ń sunkún\n",
      "🎉🥳 → wọ́n ń ṣe ayẹyẹ\n",
      "❤️😘 → mo nífẹ̀ẹ́ rẹ\n",
      "? → ?\n"
     ]
    }
   ],
   "source": [
    "yoruba_to_emoji = {\"inú mi dùn gan\": \"🙂❤️\",\n",
    "                   \"inú mi bínú\": \"😡🔥\",\n",
    "                   \"ó ń rọ̀ lónìí\": \"🌧️☔\",\n",
    "                   \"ọ̀sán ń bọ̀\": \"🌞🕛\",\n",
    "                   \"mo fẹ́ jẹun\": \"🍽️🍲\",\n",
    "                   \"mo n sùn\": \"😴🛏️\",\n",
    "                   \"ó ń rẹ́rìn-ín\": \"😂🤣\",\n",
    "                   \"mo nífẹ̀ẹ́ rẹ\": \"❤️😘\",\n",
    "                   \"ó wà nínú ìṣòro\": \"😓⚠️\",\n",
    "                   \"ọmọ náà ń sunkún\": \"👶😭\",\n",
    "                   \"wọ́n ń ṣe ayẹyẹ\": \"🎉🥳\",\n",
    "                   \"mo fẹ́ omi\": \"💧🥤\",\n",
    "                   \"mo n lọ sí ilé\": \"🏠🚶\",\n",
    "                   \"mo fẹ́ rìn\": \"🚶👣\",\n",
    "                   \"ọjọ́ ń dùn\": \"☀️😎\",\n",
    "                   \"mo n kó orin\": \"🎶🎤\",\n",
    "                   \"ó n ṣiṣẹ́\": \"👨‍💼💻\",\n",
    "                   \"mo n ṣeré bọ́ọ̀lù\": \"⚽🏃\",\n",
    "                   \"kò sí ìṣòro\": \"👍👌\",\n",
    "                   \"wọ́n ń rìn papọ̀\": \"👭👫\",\n",
    "                   \"mo ní owo\": \"💵💰\",\n",
    "                   \"mo fẹ́ ra aṣọ\": \"👗🛍️\",\n",
    "                   \"mo ní ìbànújẹ\": \"😢💔\",\n",
    "                   \"ó wà nílé ẹ̀kọ́\": \"🏫📚\",\n",
    "                   \"mo ní àlá\": \"🌙💭\",\n",
    "                   \"mo fẹ́ lọ sún\": \"🛏️😴\",\n",
    "                   \"ẹ jọ̀ọ́\": \"🙏🙏\",\n",
    "                   \"wọ́n ń jó\": \"💃🕺\",\n",
    "                   \"mo n jẹ apple\": \"🍎😋\",\n",
    "                   \"ọ̀pọ̀ ènìyàn wà níhìn-ín\": \"👥👥\",\n",
    "                   \"mo nífẹ̀ẹ́ rẹ\": \"❤️😘\",\n",
    "                   \"ẹ káàsán\": \"🌞👋\",\n",
    "                   \"ẹ káàrọ̀\": \"🌅👋\",\n",
    "                   \"ẹ káalẹ́\": \"🌙👋\",\n",
    "                   \"bàbá\": \"👨\",\n",
    "                   \"ìyá\": \"👩\",\n",
    "                   \"ọmọ\": \"👶\",\n",
    "                   \"àkọ́wé\": \"📝\",\n",
    "                   \"owó\": \"💰\",\n",
    "                   \"ọ̀rẹ́\": \"🤝\",\n",
    "                   \"ọjọ́ ìbí\": \"🎂🎉\",\n",
    "                   \"àṣọ\": \"👕👗\",\n",
    "                   \"ìwé\": \"📖\",\n",
    "                   \"ọkò\": \"🚗\",\n",
    "                   \"ọjọ́ òjò\": \"🌧️☔\",\n",
    "                   \"oorun\": \"☀️\",\n",
    "                   \"òru\": \"🌌\",\n",
    "                   \"ilé\": \"🏠\",\n",
    "                   \"ilé ìwé\": \"🏫\",\n",
    "                   \"ilé ìwòsàn\": \"🏥\",\n",
    "                   \"òunje\": \"🍲🍛\",\n",
    "                   \"omi\": \"💧\",\n",
    "                   \"bùsì\": \"🚌\",\n",
    "                   \"tàkísì\": \"🚕\",\n",
    "                   \"ọkọ̀ òfurufú\": \"✈️\",\n",
    "                   \"ọkọ̀ ojú omi\": \"🚢\",\n",
    "                   \"ṣọ́ọ̀ṣì\": \"⛪\",\n",
    "                   \"mòsálásí\": \"🕌\",\n",
    "                   \"oríṣà\": \"🙏\",\n",
    "                   \"ṣùúrù\": \"😌\",\n",
    "                   \"ayọ̀\": \"😊🎉\",\n",
    "                   \"ìbànújẹ́\": \"😢\",\n",
    "                   \"ẹ̀rín\":\"😂\",\n",
    "                   \"ìbẹ̀rù\": \"😨\",\n",
    "                   \"ìbànújẹ́ púpọ̀\": \"😭\",\n",
    "                   \"ibínú\": \"😡\",\n",
    "                   \"ẹ̀mí\": \"👻\",\n",
    "                   \"ọlọ́run\": \"✨🙏\",\n",
    "                   \"àlá\": \"💭\",\n",
    "                   \"irin àjò\": \"🧳✈️\",\n",
    "                   \"bàtà\": \"👞\",\n",
    "                   \"ṣòkòtò\": \"👖\",\n",
    "                   \"ṣùgọ̀\": \"🍬\",\n",
    "                   \"àjàrà\": \"🍇\",\n",
    "                   \"àpù\": \"🍎\",\n",
    "                   \"ògèdè\": \"🍌\",\n",
    "                   \"àgbàdo\": \"🌽\",\n",
    "                   \"ẹran\": \"🍖\",\n",
    "                   \"ẹja\": \"🐟\",\n",
    "                   \"ẹ̀yẹ\": \"🐦\",\n",
    "                   \"aja\": \"🐕\",\n",
    "                   \"ògá\": \"👔\",\n",
    "                   \"olùkọ́\": \"👩‍🏫\",\n",
    "                   \"akẹ́kọ̀ọ́\": \"👨‍🎓\",\n",
    "                   \"alágbèéká\": \"📱\",\n",
    "                   \"tàbílé\": \"💻\",\n",
    "                   \"tẹlifíṣọ̀nù\": \"📺\",\n",
    "                   \"orúkọ mi ni\": \"🙋\",\n",
    "                   \"báwo ni\": \"🤔👋\"}\n",
    "# Yoruba to Emoji functions\n",
    "def yoruba_to_emoji_translate(sentence):\n",
    "    sentence = sentence.lower().strip()\n",
    "    return yoruba_to_emoji.get(sentence, \"🤔 (No emoji found)\")  # default if not in dictionary\n",
    "\n",
    "# Build reverse dictionary: Emoji to yoruba\n",
    "emoji_to_yoruba = {}\n",
    "for yoruba, emoji in yoruba_to_emoji.items():\n",
    "    if emoji not in emoji_to_yoruba:\n",
    "       emoji_to_yoruba[emoji] = []\n",
    "    emoji_to_yoruba [emoji].append(yoruba)\n",
    "\n",
    "def emoji_to_yoruba_translate(emoji_sequence):\n",
    "    emoji_sequence = emoji_sequence.strip()\n",
    "    words = emoji_to_yoruba.get (emoji_sequence, [emoji_sequence])\n",
    "    return \" / \".join(words)\n",
    "\n",
    "# I want you to Test the data\n",
    "test_yoruba_sentences = [\n",
    "    \"Inú mi dùn gan\",\n",
    "    \"Ọmọ náà ń sunkún\",\n",
    "    \"Mo fẹ́ omi\",\n",
    "    \"Wọ́n ń ṣe ayẹyẹ\",\n",
    "    \"Mo n lọ sí ilé\",\n",
    "    \"Mi ò mọ́\"  # not in dictionary\n",
    "]\n",
    "\n",
    "test_emojis = [\"🙂❤️\",  \"😡🔥\", \"🌞🕛\", \"🍽️🍲\", \"😓⚠️\",  \"😂🤣\", \"👶😭\", \"🎉🥳\",   \"❤️😘\", \"?\"]\n",
    "\n",
    "print(\"Yoruba to Emoji Translation:\")\n",
    "for s in test_yoruba_sentences:\n",
    "    print(f\"{s}  → {yoruba_to_emoji_translate(s)}\")\n",
    "    \n",
    "#  Test Emoji → Yoruba          \n",
    "print(\"\\nEmoji → Yoruba Translation:\")\n",
    "for e in test_emojis:\n",
    "    print(f\"{e} → {emoji_to_yoruba_translate(e)}\")"
   ]
  },
  {
   "cell_type": "markdown",
   "id": "7979212b-9d91-44f9-9040-523446975680",
   "metadata": {},
   "source": [
    "### Here i tried to save my data into CSV AND EXCEL format to run my Ml model \n",
    "\n",
    "i did this by first importing a library called pandas as pd and convert dictionary to dataframe."
   ]
  },
  {
   "cell_type": "code",
   "execution_count": 5,
   "id": "a221329b-8db6-453a-a231-6345a02c84d7",
   "metadata": {},
   "outputs": [
    {
     "name": "stdout",
     "output_type": "stream",
     "text": [
      "Data saved to yoruba_emoji.csv\n"
     ]
    }
   ],
   "source": [
    "import pandas as pd\n",
    "\n",
    "# Help me Convert the dictionary to DataFrame\n",
    "df = pd.DataFrame(list(yoruba_to_emoji.items()), columns=['Yoruba', 'Emoji'])\n",
    "\n",
    "# help me Save it to a CSV\n",
    "df.to_csv(\"yoruba_emoji.csv\", index=False)\n",
    "print(\"Data saved to yoruba_emoji.csv\")"
   ]
  },
  {
   "cell_type": "code",
   "execution_count": 6,
   "id": "7b301673-b1cc-4b71-96e9-887f18ae88b5",
   "metadata": {},
   "outputs": [],
   "source": [
    "import pandas as pd\n",
    "\n",
    "# help me Load CSV\n",
    "df = pd.read_csv(\"yoruba_emoji.csv\")\n",
    "\n",
    "# Converting the data to dictionary\n",
    "yoruba_to_emoji = dict(zip(df['Yoruba'], df['Emoji']))"
   ]
  },
  {
   "cell_type": "markdown",
   "id": "bbea014e-e8fa-4eeb-bc7a-1c97de92a5bc",
   "metadata": {},
   "source": [
    "### Building my Reverse mapping (that is from Emoji - Yoruba) from CSV"
   ]
  },
  {
   "cell_type": "code",
   "execution_count": 7,
   "id": "f6c35264-5223-4502-9681-f96f8e6c9208",
   "metadata": {},
   "outputs": [],
   "source": [
    "emoji_to_yoruba ={}\n",
    "for yoruba, emoji in yoruba_to_emoji.items():\n",
    "    if emoji not in emoji_to_yoruba:\n",
    "        emoji_to_yoruba[emoji] = []\n",
    "    emoji_to_yoruba[emoji].append(yoruba)    "
   ]
  },
  {
   "cell_type": "code",
   "execution_count": 8,
   "id": "ace772f5-c20e-4a46-952e-bd0152111c60",
   "metadata": {},
   "outputs": [
    {
     "name": "stdout",
     "output_type": "stream",
     "text": [
      "{'🙂❤️': ['inú mi dùn gan'], '😡🔥': ['inú mi bínú'], '🌧️☔': ['ó ń rọ̀ lónìí', 'ọjọ́ òjò'], '🌞🕛': ['ọ̀sán ń bọ̀'], '🍽️🍲': ['mo fẹ́ jẹun'], '😴🛏️': ['mo n sùn'], '😂🤣': ['ó ń rẹ́rìn-ín'], '❤️😘': ['mo nífẹ̀ẹ́ rẹ'], '😓⚠️': ['ó wà nínú ìṣòro'], '👶😭': ['ọmọ náà ń sunkún'], '🎉🥳': ['wọ́n ń ṣe ayẹyẹ'], '💧🥤': ['mo fẹ́ omi'], '🏠🚶': ['mo n lọ sí ilé'], '🚶👣': ['mo fẹ́ rìn'], '☀️😎': ['ọjọ́ ń dùn'], '🎶🎤': ['mo n kó orin'], '👨\\u200d💼💻': ['ó n ṣiṣẹ́'], '⚽🏃': ['mo n ṣeré bọ́ọ̀lù'], '👍👌': ['kò sí ìṣòro'], '👭👫': ['wọ́n ń rìn papọ̀'], '💵💰': ['mo ní owo'], '👗🛍️': ['mo fẹ́ ra aṣọ'], '😢💔': ['mo ní ìbànújẹ'], '🏫📚': ['ó wà nílé ẹ̀kọ́'], '🌙💭': ['mo ní àlá'], '🛏️😴': ['mo fẹ́ lọ sún'], '🙏🙏': ['ẹ jọ̀ọ́'], '💃🕺': ['wọ́n ń jó'], '🍎😋': ['mo n jẹ apple'], '👥👥': ['ọ̀pọ̀ ènìyàn wà níhìn-ín'], '🌞👋': ['ẹ káàsán'], '🌅👋': ['ẹ káàrọ̀'], '🌙👋': ['ẹ káalẹ́'], '👨': ['bàbá'], '👩': ['ìyá'], '👶': ['ọmọ'], '📝': ['àkọ́wé'], '💰': ['owó'], '🤝': ['ọ̀rẹ́'], '🎂🎉': ['ọjọ́ ìbí'], '👕👗': ['àṣọ'], '📖': ['ìwé'], '🚗': ['ọkò'], '☀️': ['oorun'], '🌌': ['òru'], '🏠': ['ilé'], '🏫': ['ilé ìwé'], '🏥': ['ilé ìwòsàn'], '🍲🍛': ['òunje'], '💧': ['omi'], '🚌': ['bùsì'], '🚕': ['tàkísì'], '✈️': ['ọkọ̀ òfurufú'], '🚢': ['ọkọ̀ ojú omi'], '⛪': ['ṣọ́ọ̀ṣì'], '🕌': ['mòsálásí'], '🙏': ['oríṣà'], '😌': ['ṣùúrù'], '😊🎉': ['ayọ̀'], '😢': ['ìbànújẹ́'], '😂': ['ẹ̀rín'], '😨': ['ìbẹ̀rù'], '😭': ['ìbànújẹ́ púpọ̀'], '😡': ['ibínú'], '👻': ['ẹ̀mí'], '✨🙏': ['ọlọ́run'], '💭': ['àlá'], '🧳✈️': ['irin àjò'], '👞': ['bàtà'], '👖': ['ṣòkòtò'], '🍬': ['ṣùgọ̀'], '🍇': ['àjàrà'], '🍎': ['àpù'], '🍌': ['ògèdè'], '🌽': ['àgbàdo'], '🍖': ['ẹran'], '🐟': ['ẹja'], '🐦': ['ẹ̀yẹ'], '🐕': ['aja'], '👔': ['ògá'], '👩\\u200d🏫': ['olùkọ́'], '👨\\u200d🎓': ['akẹ́kọ̀ọ́'], '📱': ['alágbèéká'], '💻': ['tàbílé'], '📺': ['tẹlifíṣọ̀nù'], '🙋': ['orúkọ mi ni'], '🤔👋': ['báwo ni']}\n"
     ]
    }
   ],
   "source": [
    "print(emoji_to_yoruba)"
   ]
  },
  {
   "cell_type": "code",
   "execution_count": 9,
   "id": "5ef2db03-a9b5-4f65-ab45-784ff0ec1f08",
   "metadata": {},
   "outputs": [
    {
     "name": "stdout",
     "output_type": "stream",
     "text": [
      "{'inú mi dùn gan': '🙂❤️', 'inú mi bínú': '😡🔥', 'ó ń rọ̀ lónìí': '🌧️☔', 'ọ̀sán ń bọ̀': '🌞🕛', 'mo fẹ́ jẹun': '🍽️🍲', 'mo n sùn': '😴🛏️', 'ó ń rẹ́rìn-ín': '😂🤣', 'mo nífẹ̀ẹ́ rẹ': '❤️😘', 'ó wà nínú ìṣòro': '😓⚠️', 'ọmọ náà ń sunkún': '👶😭', 'wọ́n ń ṣe ayẹyẹ': '🎉🥳', 'mo fẹ́ omi': '💧🥤', 'mo n lọ sí ilé': '🏠🚶', 'mo fẹ́ rìn': '🚶👣', 'ọjọ́ ń dùn': '☀️😎', 'mo n kó orin': '🎶🎤', 'ó n ṣiṣẹ́': '👨\\u200d💼💻', 'mo n ṣeré bọ́ọ̀lù': '⚽🏃', 'kò sí ìṣòro': '👍👌', 'wọ́n ń rìn papọ̀': '👭👫', 'mo ní owo': '💵💰', 'mo fẹ́ ra aṣọ': '👗🛍️', 'mo ní ìbànújẹ': '😢💔', 'ó wà nílé ẹ̀kọ́': '🏫📚', 'mo ní àlá': '🌙💭', 'mo fẹ́ lọ sún': '🛏️😴', 'ẹ jọ̀ọ́': '🙏🙏', 'wọ́n ń jó': '💃🕺', 'mo n jẹ apple': '🍎😋', 'ọ̀pọ̀ ènìyàn wà níhìn-ín': '👥👥', 'ẹ káàsán': '🌞👋', 'ẹ káàrọ̀': '🌅👋', 'ẹ káalẹ́': '🌙👋', 'bàbá': '👨', 'ìyá': '👩', 'ọmọ': '👶', 'àkọ́wé': '📝', 'owó': '💰', 'ọ̀rẹ́': '🤝', 'ọjọ́ ìbí': '🎂🎉', 'àṣọ': '👕👗', 'ìwé': '📖', 'ọkò': '🚗', 'ọjọ́ òjò': '🌧️☔', 'oorun': '☀️', 'òru': '🌌', 'ilé': '🏠', 'ilé ìwé': '🏫', 'ilé ìwòsàn': '🏥', 'òunje': '🍲🍛', 'omi': '💧', 'bùsì': '🚌', 'tàkísì': '🚕', 'ọkọ̀ òfurufú': '✈️', 'ọkọ̀ ojú omi': '🚢', 'ṣọ́ọ̀ṣì': '⛪', 'mòsálásí': '🕌', 'oríṣà': '🙏', 'ṣùúrù': '😌', 'ayọ̀': '😊🎉', 'ìbànújẹ́': '😢', 'ẹ̀rín': '😂', 'ìbẹ̀rù': '😨', 'ìbànújẹ́ púpọ̀': '😭', 'ibínú': '😡', 'ẹ̀mí': '👻', 'ọlọ́run': '✨🙏', 'àlá': '💭', 'irin àjò': '🧳✈️', 'bàtà': '👞', 'ṣòkòtò': '👖', 'ṣùgọ̀': '🍬', 'àjàrà': '🍇', 'àpù': '🍎', 'ògèdè': '🍌', 'àgbàdo': '🌽', 'ẹran': '🍖', 'ẹja': '🐟', 'ẹ̀yẹ': '🐦', 'aja': '🐕', 'ògá': '👔', 'olùkọ́': '👩\\u200d🏫', 'akẹ́kọ̀ọ́': '👨\\u200d🎓', 'alágbèéká': '📱', 'tàbílé': '💻', 'tẹlifíṣọ̀nù': '📺', 'orúkọ mi ni': '🙋', 'báwo ni': '🤔👋'}\n"
     ]
    }
   ],
   "source": [
    "print(yoruba_to_emoji)"
   ]
  },
  {
   "cell_type": "markdown",
   "id": "3b289824-828d-4f0e-8566-57595b463578",
   "metadata": {},
   "source": [
    "### Saving my text to CSV FORMAT to split for EMOJI TO YORUBA"
   ]
  },
  {
   "cell_type": "code",
   "execution_count": 10,
   "id": "03e11d4f-2fac-4e55-9cbc-06a08f4466d1",
   "metadata": {},
   "outputs": [],
   "source": [
    "import pandas as pd\n",
    "\n",
    "# help me to Prepare data for CSV\n",
    "# and help me Join multiple Yoruba phrases with \"/\" if an emoji maps to more than one\n",
    "emoji_data =[(emoji, \" / \".join(words)) for emoji, words in emoji_to_yoruba.items()]\n",
    "\n",
    "# help me to Convert them to DataFrame\n",
    "df_emoji_to_yoruba = pd.DataFrame(emoji_data, columns = [\"Emoji\",\"Yoruba\"])"
   ]
  },
  {
   "cell_type": "code",
   "execution_count": 11,
   "id": "92638722-f1f7-450d-9f1f-63c456c399d3",
   "metadata": {},
   "outputs": [
    {
     "name": "stdout",
     "output_type": "stream",
     "text": [
      "Emoji → Yoruba mapping saved to emoji_to_yoruba.csv\n"
     ]
    }
   ],
   "source": [
    "df_emoji_to_yoruba.to_csv(\"emoji_to_yoruba.csv\", index = False)\n",
    "print(\"Emoji → Yoruba mapping saved to emoji_to_yoruba.csv\")"
   ]
  },
  {
   "cell_type": "code",
   "execution_count": 12,
   "id": "0945379b-7558-405c-8147-d26c11a112c7",
   "metadata": {},
   "outputs": [],
   "source": [
    "import pandas as pd\n",
    "\n",
    "#Load Yoruba → Emoji\n",
    "df_yoruba_to_emoji = pd.read_csv(\"yoruba_emoji.csv\")\n",
    "yoruba_to_emoji =dict(zip(df_yoruba_to_emoji['Yoruba'], df_yoruba_to_emoji[\"Emoji\"]))\n",
    "\n",
    "#Load Emoji →  Yoruba\n",
    "df_emoji_to_yoruba = pd.read_csv(\"emoji_to_yoruba.csv\")\n",
    "emoji_to_yoruba =dict(zip(df_emoji_to_yoruba['Emoji'], df_emoji_to_yoruba[\"Yoruba\"].str.split(\" / \")))"
   ]
  },
  {
   "cell_type": "code",
   "execution_count": 13,
   "id": "76e6fe25-5d91-49df-bbf9-bcf4ae4314dd",
   "metadata": {},
   "outputs": [],
   "source": [
    "# Yoruba → Emoji\n",
    "def yoruba_to_emoji_translate(sentence):\n",
    "    sentence = sentence.lower().strip()\n",
    "    return yoruba_to_emoji.get(sentence, \"🤔 (No emoji found)\")\n",
    "\n",
    "# Emoji → Yoruba\n",
    "def emoji_to_yoruba_translate(emoji_sequence):\n",
    "    emoji_sequence = emoji_sequence.strip()\n",
    "    words = emoji_to_yoruba.get(emoji_sequence, [emoji_sequence])\n",
    "    return \" / \".join(words)"
   ]
  },
  {
   "cell_type": "markdown",
   "id": "2250c56e-2173-4145-a196-75963cfcf76d",
   "metadata": {},
   "source": [
    "## testing my Bidirectioanl translation first"
   ]
  },
  {
   "cell_type": "code",
   "execution_count": 14,
   "id": "083f16e5-4489-4916-83b7-ea75e1955a17",
   "metadata": {},
   "outputs": [
    {
     "name": "stdout",
     "output_type": "stream",
     "text": [
      "Yoruba → Emoji Translation:\n",
      "Inú mi dùn gan → 🙂❤️\n",
      "Ọmọ náà ń sunkún → 👶😭\n",
      "Mo fé omi → 🤔 (No emoji found)\n",
      "\n",
      "Emoji → Yoruba Translation:\n",
      "🙂❤️ → inú mi dùn gan\n",
      "👶😭 → ọmọ náà ń sunkún\n",
      "💧🥤 → mo fẹ́ omi\n"
     ]
    }
   ],
   "source": [
    "# i want to Test Yoruba → Emoji\n",
    "print(\"Yoruba → Emoji Translation:\")\n",
    "test_yoruba_sentences = [\"Inú mi dùn gan\", \"Ọmọ náà ń sunkún\", \"Mo fé omi\"]\n",
    "for s in test_yoruba_sentences:\n",
    "    print(f\"{s} → {yoruba_to_emoji_translate(s)}\")\n",
    "\n",
    "# i want to test Emoji → Yoruba\n",
    "print(\"\\nEmoji → Yoruba Translation:\")\n",
    "test_emojis = [\"🙂❤️\", \"👶😭\", \"💧🥤\"]\n",
    "for e in test_emojis:\n",
    "    print(f\"{e} → {emoji_to_yoruba_translate(e)}\")"
   ]
  },
  {
   "cell_type": "markdown",
   "id": "b2dd6bdd-1aba-4372-be1b-0557ecf6ffea",
   "metadata": {},
   "source": [
    "### USING THIS RULE BASED TO BUILD A CLEAN STRWAMLIT ONLINE APP WITH THE EXISTING USAGE OF MY CSV "
   ]
  },
  {
   "cell_type": "code",
   "execution_count": 46,
   "id": "630057a4-3cb1-4f82-80f6-c16e6e0f43ea",
   "metadata": {},
   "outputs": [],
   "source": [
    "# app.py\n",
    "import streamlit as st\n",
    "import pandas as pd\n",
    "\n",
    "# -------------------------------\n",
    "# Load CSV files\n",
    "# -------------------------------\n",
    "\n",
    "# Yoruba → Emoji\n",
    "df_yoruba_to_emoji = pd.read_csv(\"yoruba_emoji.csv\")\n",
    "yoruba_to_emoji = dict(zip(df_yoruba_to_emoji[\"Yoruba\"], df_yoruba_to_emoji[\"Emoji\"]))\n",
    "\n",
    "# Emoji → Yoruba\n",
    "df_emoji_to_yoruba = pd.read_csv(\"emoji_to_yoruba.csv\")\n",
    "emoji_to_yoruba = dict(zip(df_emoji_to_yoruba[\"Emoji\"], df_emoji_to_yoruba[\"Yoruba\"].str.split(\" / \")))\n",
    "\n",
    "# -------------------------------\n",
    "# Translation functions\n",
    "# -------------------------------\n",
    "\n",
    "def yoruba_to_emoji_translate(text):\n",
    "    return yoruba_to_emoji.get(text.lower().strip(), \"🤔 (No emoji found)\")\n",
    "\n",
    "def emoji_to_yoruba_translate(text):\n",
    "    words = emoji_to_yoruba.get(text.strip(), [text])\n",
    "    return \" / \".join(words)\n",
    "\n",
    "# -------------------------------\n",
    "# Streamlit UI\n",
    "# -------------------------------\n",
    "\n",
    "st.set_page_config(page_title=\"Yoruba ↔ Emoji Translator\", page_icon=\"🙂\", layout=\"centered\")\n",
    "st.title(\"Bi-Directional Yoruba ↔ Emoji Translator\")\n",
    "\n",
    "st.markdown(\n",
    "    \"\"\"\n",
    "    *Instructions:*  \n",
    "    1. Select translation direction.  \n",
    "    2. Enter Yoruba text or emoji sequence.  \n",
    "    3. Click Translate to see the result.\n",
    "    \"\"\"\n",
    ")\n",
    "\n",
    "direction = st.radio(\"Select translation direction:\", [\"Yoruba → Emoji\", \"Emoji → Yoruba\"])\n",
    "text_input = st.text_area(\"Enter your text or emoji sequence here:\")\n",
    "\n",
    "if st.button(\"Translate\"):\n",
    "    if direction == \"Yoruba → Emoji\":\n",
    "        result = yoruba_to_emoji_translate(text_input)\n",
    "    else:\n",
    "        result = emoji_to_yoruba_translate(text_input)\n",
    "    \n",
    "    st.success(\"Translation Result:\")\n",
    "    st.write(result)\n",
    "\n",
    "\n",
    "\n",
    "if st.checkbox(\"Show Example Translations\"):\n",
    "    st.subheader(\"Yoruba → Emoji Examples\")\n",
    "    for y, e in list(yoruba_to_emoji.items())[:5]:\n",
    "        st.write(f\"{y} → {e}\")\n",
    "    \n",
    "    st.subheader(\"Emoji → Yoruba Examples\")\n",
    "    for em, y_list in list(emoji_to_yoruba.items())[:5]:\n",
    "        st.write(f\"{em} → {' / '.join(y_list)}\")"
   ]
  },
  {
   "cell_type": "markdown",
   "id": "18e9f1ea-0a28-45fd-a61d-bc0641efaa5d",
   "metadata": {},
   "source": [
    "### DESIGNING SOME UI/UX IMPROVEMENTS"
   ]
  },
  {
   "cell_type": "code",
   "execution_count": 47,
   "id": "da1854fb-6aeb-4505-b724-ceb0dbd2b3fa",
   "metadata": {},
   "outputs": [
    {
     "data": {
      "text/plain": [
       "DeltaGenerator()"
      ]
     },
     "execution_count": 47,
     "metadata": {},
     "output_type": "execute_result"
    }
   ],
   "source": [
    "import streamlit as st\n",
    "\n",
    "st.title(\"Yoruba ↔ Emoji Translator\")\n",
    "\n",
    "# Example result\n",
    "result = \"🙂❤️ Yoruba → Emoji result\"\n",
    "\n",
    "# Show result with built-in copy button\n",
    "st.code(result, language=\"\")  # has a small copy icon"
   ]
  },
  {
   "cell_type": "markdown",
   "id": "d5302e6d-7682-4c4c-810b-ccfc753a287d",
   "metadata": {},
   "source": [
    "### ADDING A TITLE, INSTRUCTIONS AND EXAMPLES FOR USER TO MAKE USE OF THE APP IN A FRIENDLY WAY"
   ]
  },
  {
   "cell_type": "code",
   "execution_count": 48,
   "id": "1b6dd7fc-2e5e-4f29-b7a7-cda4f6da103f",
   "metadata": {},
   "outputs": [],
   "source": [
    "st.title(\"Bi-Directional Yoruba ↔ Emoji Translator\")\n",
    "st.write(\"Enter Yoruba text or Emojis below and get instant translation.\")"
   ]
  },
  {
   "cell_type": "markdown",
   "id": "2d40b2d0-a220-413e-a4e8-77677f32d56b",
   "metadata": {},
   "source": [
    "### PROTOTYPE FRAME FOR MY USERS TO PICK BETTWEEN YORUBA TO EMOJI OR EMOJI TO YORUBA (A BOTTON CLICK)"
   ]
  },
  {
   "cell_type": "code",
   "execution_count": 15,
   "id": "bcdfe96c-c271-4c97-ba5c-f2109d1be035",
   "metadata": {},
   "outputs": [
    {
     "name": "stderr",
     "output_type": "stream",
     "text": [
      "2025-09-30 21:53:10.857 WARNING streamlit.runtime.state.session_state_proxy: Session state does not function when running a script without `streamlit run`\n",
      "2025-09-30 21:53:19.191 \n",
      "  \u001b[33m\u001b[1mWarning:\u001b[0m to view this Streamlit app on a browser, run it with the following\n",
      "  command:\n",
      "\n",
      "    streamlit run C:\\Users\\USER\\anaconda3\\Lib\\site-packages\\ipykernel_launcher.py [ARGUMENTS]\n"
     ]
    }
   ],
   "source": [
    "option = st.radio(\"Choose translation direction:\", \n",
    "                  [\"Yoruba → Emoji\", \"Emoji → Yoruba\"])\n",
    "\n",
    "text_input = st.text_input(\"Enter text:\")\n",
    "\n",
    "if st.button(\"Translate\"):\n",
    "    if option == \"Yoruba → Emoji\":\n",
    "        result = yoruba_to_emoji_translate(text_input)\n",
    "    else:\n",
    "        result = emoji_to_yoruba_translate(text_input)\n",
    "\n",
    "    st.code(result, language=\"\")"
   ]
  },
  {
   "cell_type": "code",
   "execution_count": null,
   "id": "f9cbddb1-3a03-4016-b52a-27387fc2386c",
   "metadata": {},
   "outputs": [],
   "source": [
    "\"C:\\Users\\USER\\Desktop/SEMINAR 2\""
   ]
  },
  {
   "cell_type": "markdown",
   "id": "242f6be1-6585-4565-babc-4f7523f9c729",
   "metadata": {},
   "source": [
    "### Creating a Fresh Streamlit app with icons and image banner"
   ]
  },
  {
   "cell_type": "code",
   "execution_count": null,
   "id": "82ddbd7e-c298-4141-8664-4cd4e61329e5",
   "metadata": {},
   "outputs": [],
   "source": [
    "# app.py\n",
    "import streamlit as st\n",
    "import pandas as pd\n",
    "from pathlib import Path\n",
    "\n",
    "# Load CSV (ensure filenames match)\n",
    "DATA_DIR = Path(\".\")\n",
    "yoruba_csv = DATA_DIR / \"yoruba_emoji.csv\"\n",
    "emoji_csv = DATA_DIR / \"emoji_to_yoruba.csv\"\n",
    "\n",
    "# Page Configuration\n",
    "st.set_page_config(page_title=\"Bi-Directional Yoruba ↔ Emoji Translator\",\n",
    "                   page_icon=\"🌟\",\n",
    "                   layout=\"centered\")\n",
    "\n",
    "# Banner\n",
    "st.image(\"banner.png.jpeg\", use__container__width=True)\n",
    "\n",
    "# Sidebar (About Author)\n",
    "st.sidebar.image(\"author.jpg.PNG\", caption=\"👤 Samuel Babatunde Adedeji\", use_container_width=True)\n",
    "st.sidebar.markdown(\"### 📧 Contact Information\")\n",
    "st.sidebar.write(\"✉️ *Email:* [badedeji190@gmail.com](mailto:badedeji190@gmail.com)\")\n",
    "st.sidebar.write(\"🐙 *GitHub:* [yoruba-emoji-translation](https://github.com/SamuelAdedeji190/yoruba-emoji-translation)\")\n",
    "st.sidebar.write(\"🔗 *LinkedIn:* [Babatunde Adedeji](http://linkedin.com/in/babatunde-adedeji-7157b9253)\")\n",
    "\n",
    "# File checks\n",
    "if not yoruba_csv.exists() or not emoji_csv.exists():\n",
    "    st.sidebar.error(\"⚠️ Missing CSV files. Place *yoruba_emoji.csv* and *emoji_to_yoruba.csv* in the same folder as app.py.\")\n",
    "else:\n",
    "    df_yoruba = pd.read_csv(yoruba_csv)\n",
    "    df_emoji = pd.read_csv(emoji_csv)\n",
    "\n",
    "    # Dictionaries\n",
    "    yoruba_to_emoji = {str(k).strip().lower(): str(v).strip()\n",
    "                       for k, v in zip(df_yoruba[\"Yoruba\"], df_yoruba[\"Emoji\"])}\n",
    "    emoji_to_yoruba = {str(row[\"Emoji\"]).strip(): [w.strip() for w in str(row[\"Yoruba\"]).split(\" / \")]\n",
    "                       for _, row in df_emoji.iterrows()}\n",
    "\n",
    "    # Translation Functions\n",
    "    def yoruba_to_emoji_translate(text: str) -> str:\n",
    "        if not text:\n",
    "            return \"🤔 (No input)\"\n",
    "        key = text.strip().lower()\n",
    "        return yoruba_to_emoji.get(key, \"🤔 (No emoji found)\")\n",
    "\n",
    "    def emoji_to_yoruba_translate(text: str) -> str:\n",
    "        if not text:\n",
    "            return \"🤔 (No input)\"\n",
    "        key = text.strip()\n",
    "        vals = emoji_to_yoruba.get(key)\n",
    "        if vals:\n",
    "            return \" / \".join(vals)\n",
    "        return \"🤔 (No Yoruba mapping found)\"\n",
    "\n",
    "    # Main UI\n",
    "    col_logo, col_title = st.columns([1, 5])\n",
    "    with col_logo:\n",
    "        st.image(\"ui_logo.png.png\", width=80)\n",
    "    with col_title:\n",
    "        st.title(\"🌟 Bi-Directional Yoruba ↔ Emoji Translator 🌟\")\n",
    "\n",
    "    st.markdown(\"Enter a *Yoruba word* or an *emoji sequence* and choose a direction. Click *Translate* to get results instantly.\")\n",
    "\n",
    "    # Direction selector\n",
    "    direction = st.radio(\"Select translation direction:\", [\"Yoruba → Emoji\", \"Emoji → Yoruba\"])\n",
    "\n",
    "    # Input field\n",
    "    text_input = st.text_input(\"Enter your text or emoji sequence here:\")\n",
    "\n",
    "    # Translate button\n",
    "    if st.button(\"Translate\"):\n",
    "        if direction == \"Yoruba → Emoji\":\n",
    "            result = yoruba_to_emoji_translate(text_input)\n",
    "        else:\n",
    "            result = emoji_to_yoruba_translate(text_input)\n",
    "\n",
    "        st.subheader(\"✅ Translation Result\")\n",
    "        st.code(result, language=\"\")\n",
    "   \n",
    "    # Quick Examples\n",
    "    st.markdown(\"---\")\n",
    "    st.subheader(\"⚡ Quick Examples\")\n",
    "    col1, col2 = st.columns(2)\n",
    "\n",
    "    with col1:\n",
    "        if st.button(\"Example: Inú mi dùn gan →\"):\n",
    "            st.write(\"Input: Inú mi dùn gan\")\n",
    "            st.code(yoruba_to_emoji_translate(\"Inú mi dùn gan\"))\n",
    "        if st.button(\"Example: Mo fẹ́ jẹun →\"):\n",
    "            st.write(\"Input: Mo fẹ́ jẹun\")\n",
    "            st.code(yoruba_to_emoji_translate(\"Mo fẹ́ jẹun\"))\n",
    "\n",
    "    with col2:\n",
    "        if st.button(\"Example: 🙂❤️ →\"):\n",
    "            st.write(\"Input: 🙂❤️\")\n",
    "            st.code(emoji_to_yoruba_translate(\"🙂❤️\"))\n",
    "        if st.button(\"Example: 🍽️🍲 →\"):\n",
    "            st.write(\"Input: 🍽️🍲\")\n",
    "            st.code(emoji_to_yoruba_translate(\"🍽️🍲\"))\n",
    "    \n",
    "    # Dataset Transparency\n",
    "    st.markdown(\"---\")\n",
    "    if st.checkbox(\"📂 Show Yoruba→Emoji dataset\"):\n",
    "        st.dataframe(df_yoruba, use_container_width=True)\n",
    "\n",
    "    if st.checkbox(\"📂 Show Emoji→Yoruba dataset\"):\n",
    "        st.dataframe(df_emoji, use_container_width=True)\n",
    "   \n",
    "    # Footer\n",
    "    st.markdown(\"---\")\n",
    "    st.caption(\"🚀 Developed by *Samuel Babatunde Adedeji* | Yoruba ↔ Emoji Translator | CSV-driven rule-based NLP project.\")"
   ]
  }
 ],
 "metadata": {
  "kernelspec": {
   "display_name": "Python 3 (ipykernel)",
   "language": "python",
   "name": "python3"
  },
  "language_info": {
   "codemirror_mode": {
    "name": "ipython",
    "version": 3
   },
   "file_extension": ".py",
   "mimetype": "text/x-python",
   "name": "python",
   "nbconvert_exporter": "python",
   "pygments_lexer": "ipython3",
   "version": "3.12.7"
  }
 },
 "nbformat": 4,
 "nbformat_minor": 5
}
